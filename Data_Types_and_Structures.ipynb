{
  "nbformat": 4,
  "nbformat_minor": 0,
  "metadata": {
    "colab": {
      "provenance": []
    },
    "kernelspec": {
      "name": "python3",
      "display_name": "Python 3"
    },
    "language_info": {
      "name": "python"
    }
  },
  "cells": [
    {
      "cell_type": "markdown",
      "source": [
        "# ***Data Types and Structures***"
      ],
      "metadata": {
        "id": "he_LCrjwYNu7"
      }
    },
    {
      "cell_type": "markdown",
      "source": [
        "1 .  What are data structures, and why are they important\n",
        "   - Here note that storage means memory or secondary storage.\n",
        "   - A data structure is an expertly designed format for arranging, processing, accessing, and storing data. Data structures in both simple and complex forms, all of which are made to organize data for a certain use. Users find it simple to access the data they need and use it appropriately, thanks to data structures. Data structures frame the organizing of information in a way that both machines and people can better grasp.\n",
        "\n",
        "   - Importance of data structures-\n",
        "\n",
        "   - Most computer programming languages' standard base data types, such as integers or floating-point numbers, are typically insufficient to convey the logical intent for data processing and application. However, to make processing easier, applications that consume, manipulate, and output information need to be aware of how data should be arranged. Data structures enable the efficient usage, persistence, and sharing by logically combining the data parts. They offer a formal model that outlines the arrangement of the data items.\n",
        "\n",
        "  - Data structures serve as the foundation for more complex applications. To create them, data components are combined into logical units that reflect abstract data types relevant to the algorithm or application. A \"customer name,\" which consists of the character strings for \"first name,\" \"middle name,\" and \"last name,\" is an illustration of an abstract data type.\n"
      ],
      "metadata": {
        "id": "85GCiOGwYeCv"
      }
    },
    {
      "cell_type": "markdown",
      "source": [
        "2 .  Explain the difference between mutable and immutable data types with examples ?\n",
        "  - : Mutable\n",
        "  - Definition =\tData type whose values can be changed after creation.\n",
        "  - Memory Location =\tRetains the same memory location even after the content  is modified.\n",
        "  - Example =\tList, Dictionaries, Set\n",
        "  - Performance =\tIt is memory-efficient, as no new objects are created for frequent changes.\n",
        "  - Thread-Safety -\tNot inherently thread-safe. Concurrent modification can lead to unpredictable results.\n",
        "  - Use-cases\tWhen you need to modify, add, or remove existing data frequently.\n",
        "  - : Immutable\n",
        "  - Definiton = Data types whose values can’t be changed or altered.\n",
        "  - Memory Location = Any modification results in a new object and new memory location\n",
        "  - Example = Strings, Types, Integer\n",
        "  - Performance = It might be faster in some scenarios as there’s no need to track changes.\n",
        "  - Thread-Safety = They are inherently thread-safe due to their unchangeable nature.\n",
        "  - Use-cases = When you want to ensure data remains consistent and unaltered.\n",
        "  : - Mutable data types\n",
        "  python\n",
        "  my_list = [1, 2, 3]\n",
        "  my_list[0] = 10\n",
        "  my_list.append(4)\n",
        "  print(my_list) # Output: [10, 2, 3, 4]\n",
        "  : - Immutable data types\n",
        "  python\n",
        "  my_string = \"Hello\"\n",
        "  my_string += \" World\"\n",
        "  print(my_string) # Output: Hello World\n",
        "  "
      ],
      "metadata": {
        "id": "d32VaRxHabzy"
      }
    },
    {
      "cell_type": "markdown",
      "source": [
        "3. What are the main differences between lists and tuples in Python ?\n",
        " - Key Differences Between List and Tuple\n",
        " - The main difference between tuples and lists is that tuples are immutable, meaning their contents cannot be changed after creation, while lists are mutable and can be modified. Additionally, tuples are more memory-efficient compared to lists.\n",
        " - Tuples can't be changed after they're created, but lists can be modified. Tuples use less memory than lists. They are also a bit faster, especially when you're just looking up values. So, if you have data that you don't want to change, it's better to use tuples instead of lists\n",
        " - Feature\n",
        " - List :\n",
        " - Mutability = Lists can be changed by adding or removing elements mutable\n",
        " - Performance = Lists are slower due to dynamic size and mutability\n",
        " - Methods = Lists has more built-in methods e.g., append, remove\n",
        " - Use Cases = Suitable for collections of items that may change\n",
        " - Memory Usage = Lists consume more memory due to flexibility\n",
        " - Tuple :    \n",
        " - Mutability = Tuples cant be changed by adding or removing elements immutable\n",
        " - Performance = Tupes are faster due to static size and immutability\n",
        " - Methods = Tuples has fewer built-in methods e.g., count, index\n",
        " - Use Cases = Ideal for fixed collections of items\n",
        " - Memory Usage = Tuples consume less memory due to immutability"
      ],
      "metadata": {
        "id": "suQZBczTB4pE"
      }
    },
    {
      "cell_type": "markdown",
      "source": [
        "4.  Describe how dictionaries store data ?\n",
        "    - Dictionaries, also known as hash maps, are data structures that store collections of key-value pairs. They allow you to associate a value with a unique key, offering a very efficient way to retrieve and manage data compared to lists or arrays where you'd have to rely on numerical indices.\n",
        "    - Key-value pairs\n",
        "    - The fundamental unit of storage in a dictionary is the key-value pair.\n",
        "      Each key must be unique, meaning you can't have two identical keys within the same dictionary. This ensures that when you search for a key, you retrieve a specific, corresponding value.\n",
        "    - Hashing and buckets\n",
        "    - Dictionaries use a technique called hashing to store and retrieve data    quickly.\n",
        "     When you add a new key-value pair, the key is passed through a special function called a hash function. This function converts the key into a numerical value called a hash code or hash value.\n"
      ],
      "metadata": {
        "id": "K8MyLo6ZE-B0"
      }
    },
    {
      "cell_type": "markdown",
      "source": [
        "5 . Why might you use a set instead of a list in Python ?\n",
        "  - Sets are preferred over lists in Python in specific scenarios where their unique characteristics offer advantages:\n",
        "  - Eliminating Duplicates:\n",
        "  -Sets inherently store only unique elements. If a collection of items needs   to contain no duplicates, converting it to a set or building it directly as a set is the most efficient way to achieve this.\n",
        "  - Fast Membership Testing:\n",
        "\n",
        "   Checking if an element exists within a set (using the in operator) is significantly faster than performing the same check in a list, especially for large collections. This is because sets are implemented using hash tables, allowing for average O(1) time complexity for membership tests, while lists require O(n) in the worst case.\n",
        "  - Set Operations:\n",
        "\n",
        "  Sets provide built-in methods for mathematical set operations like union, intersection, difference, and symmetric difference. These operations are highly optimized and allow for efficient comparison and manipulation of collections based on their unique elements."
      ],
      "metadata": {
        "id": "cbma0ULo62SV"
      }
    },
    {
      "cell_type": "markdown",
      "source": [
        "6 . What is a string in Python, and how is it different from a list ?\n",
        "  - Strings and lists in Python\n",
        "  - In Python, both strings and lists are ordered sequences, meaning their elements have a specific order that is preserved. However, there are fundamental differences between them:\n",
        "  - Strings\n",
        "\n",
        "  - Definition: A string is a sequence of characters, such as letters, numbers, and symbols, enclosed within single, double, or triple quotes (e.g., \"Hello, World!\", 'Python', \"\"\"Multiline String\"\"\"). according to W3Schools\n",
        "Immutability: Once a string is created, its characters cannot be changed or modified directly. Any operation that seemingly alters a string actually creates a new string object in memory.\n",
        "  - Lists\n",
        "  \n",
        "Definition: A list is a versatile, ordered collection of items enclosed in square brackets [] and separated by commas (e.g., ['apple', 'banana', 'cherry'], [1, 2, 3, 4]). According to W3Schools\n",
        "Mutability: Lists are mutable, meaning their contents can be modified after they are created. You can add, remove, or change elements at specific positions within a list.\n",
        "Data Type: Can hold items of different data types within the same list (e.g., integers, strings, floats, booleans, even other lists)."
      ],
      "metadata": {
        "id": "gGusvoy97psR"
      }
    },
    {
      "cell_type": "markdown",
      "source": [
        "7 . How do tuples ensure data integrity in Python ?\n",
        "  - Tuples in Python primarily ensure data integrity through their immutability, meaning once created, their contents cannot be changed. This fundamental characteristic helps maintain data integrity by preventing unintended modifications and promoting consistency.\n",
        "  - Preventing Accidental Modifications:\n",
        "  -  By making tuples unchangeable, they safeguard data from unintended alterations or accidental reassignments. This is especially valuable for storing critical data like configuration settings, API responses, or geographic coordinates that should remain constant throughout a program's lifecycle.\n",
        "  - Ensuring Consistency:\n",
        "  - The inability to modify a tuple ensures that the data it holds remains consistent and reliable. This eliminates the risk of introducing errors or inconsistencies that could arise from unexpected changes, according to Pickl.AI.\n",
        "  - Enhancing Security:\n",
        "   Tuples can be used for storing sensitive or crucial data, as their immutable nature prevents unauthorized or accidental modifications, according to Medium."
      ],
      "metadata": {
        "id": "6oOpWXm58QGp"
      }
    },
    {
      "cell_type": "markdown",
      "source": [
        "8 . What is a hash table, and how does it relate to dictionaries in Python ?\n",
        "  - A hash table is a data structure designed for efficient storage and retrieval of data in key-value pairs. It functions by utilizing a hash function to transform the input key into an index or address within an array, where the corresponding data value is stored. This process allows for quicker access to data compared to other data structures like lists, especially when dealing with large datasets\n",
        "  - Relationship to Python dictionaries\n",
        "  - Key-value storage: Both dictionaries and hash tables store data as key-value pairs.\n",
        "\n",
        "- Hashing for lookup: When you access a value in a Python dictionary using its key, Python's internal hash function calculates a hash value from the key, which is then used as an index to quickly locate the corresponding value in the underlying hash table structure.\n",
        "\n",
        " - Hashable keys:\n",
        "  -Only hashable objects (objects with a hash value that remains constant during their lifetime, like strings, numbers, and tuples) can be used as keys in a Python dictionary. This is crucial for the hash table's efficiency as it relies on keys always producing the same hash value.\n",
        " - Efficiency:\n",
        " -Both hash table operations like insertion, deletion, and lookup, and Python dictionary operations generally exhibit an average time complexity of O(1), meaning the operation takes a constant amount of time regardless of the size of the data structure. This is a significant advantage in many scenarios."
      ],
      "metadata": {
        "id": "cl42XNar9ycH"
      }
    },
    {
      "cell_type": "markdown",
      "source": [
        "9 . Can lists contain different data types in Python ?\n",
        "  - Yes, Python lists can contain elements of different data types. This is a   key feature of Python lists, making them highly flexible and versatile.\n",
        " - For example, a single Python list can hold a combination of:\n",
        "\n",
        " - Numbers: Integers, floats, complex numbers.\n",
        "\n",
        " - Strings: Textual data.\n",
        "\n",
        " - Booleans: True or False values.\n",
        "\n",
        " - Other data structures: Nested lists, tuples, dictionaries, sets.\n",
        "\n",
        " - Objects: Instances of custom classes.\n"
      ],
      "metadata": {
        "id": "C_vbbTsr-kTi"
      }
    },
    {
      "cell_type": "markdown",
      "source": [
        "10 . Explain why strings are immutable in Python ?\n",
        "   - Strings in Python are \"immutable\" which means they can not be changed after they are created. Some other immutable data types are integers, float, boolean, etc.\n",
        "\n",
        "   - The immutability of Python string is very useful as it helps in hashing, performance optimization, safety, ease of use, etc.\n",
        "\n",
        "   - The article will explore the differences between mutable and immutable objects, highlighting the advantages of using immutable objects. It will also compare immutability with mutability, discussing various methods to handle immutability and achieve desired outcomes.\n",
        "    \n"
      ],
      "metadata": {
        "id": "0aexno6nP-EB"
      }
    },
    {
      "cell_type": "code",
      "source": [
        "name_1 = \"Aarun\""
      ],
      "metadata": {
        "id": "8G-adHx0f1ez"
      },
      "execution_count": null,
      "outputs": []
    },
    {
      "cell_type": "markdown",
      "source": [
        "11 . What advantages do dictionaries offer over lists for certain tasks ?\n",
        "   - Faster lookups: Dictionaries use hash tables for efficient key-based retrieval, enabling near-constant time access regardless of size.\n",
        "   - Clearer data organization and readability: Dictionaries provide a natural way to associate data points through key-value pairs, improving code readability and maintainability by explicitly defining relationships between data elements. For instance, using a dictionary to store student data, with keys like \"name\", \"age\", or \"grade\", is clearer and more organized than managing separate lists or complex indexing within lists.\n",
        "   - Flexibility and adaptability: Dictionaries allow various data types to be used as values, including other dictionaries or custom objects, providing greater flexibility in representing complex and nested data structures.\n",
        "   - Enhanced data referencing: Dictionaries enable easy and streamlined referencing of specific data points by their corresponding keys, simplifying access to relevant information within your programs."
      ],
      "metadata": {
        "id": "3ToQ8EuBgc5A"
      }
    },
    {
      "cell_type": "markdown",
      "source": [
        "12 . Describe a scenario where using a tuple would be preferable over a list ?\n",
        "   - One scenario where a tuple would be preferable over a list in Python is when representing a collection of items that should remain constant and unchanged throughout your program's execution.\n",
        "   - For example,\n",
        "   - Immutability: Tuples are immutable, meaning their elements cannot be modified after they are created.\n",
        "   - Memory Efficiency: Tuples generally require less memory than lists because they are immutable and have a fixed size.\n",
        "   - Performance: Tuples can offer a slight performance advantage in terms of iteration and access compared to lists, especially for read-intensive tasks with large datasets\n",
        "   - Use as Dictionary Keys: Tuples can be used as keys in dictionaries because they are immutable and thus hashable.\n",
        "   "
      ],
      "metadata": {
        "id": "CIvv8BtthK73"
      }
    },
    {
      "cell_type": "markdown",
      "source": [
        "13 . How do sets handle duplicate values in Python ?\n",
        "   - Python sets are designed to store only unique elements. This means that if you attempt to add a duplicate value to a set, it will be ignored and the set will remain unchanged.\n",
        "   - Here's how this works in practice:\n",
        "   - When creating a set from an iterable (like a list or tuple) that contains duplicates, the duplicates are automatically removed:"
      ],
      "metadata": {
        "id": "NylaHCiIhot8"
      }
    },
    {
      "cell_type": "code",
      "source": [
        "my_list = [1, 2, 2, 3, 4]\n",
        "my_set = set(my_list)\n",
        "print(my_set) # Output: {1, 2, 3, 4}\n"
      ],
      "metadata": {
        "colab": {
          "base_uri": "https://localhost:8080/"
        },
        "id": "LHQzNw1Oi2Qj",
        "outputId": "d3b330e2-9eb1-4592-c5a3-8395536d01b1"
      },
      "execution_count": null,
      "outputs": [
        {
          "output_type": "stream",
          "name": "stdout",
          "text": [
            "{1, 2, 3, 4}\n"
          ]
        }
      ]
    },
    {
      "cell_type": "code",
      "source": [
        "my_set = {1, 2, 3}\n",
        "my_set.add(4)\n",
        "print(my_set) # Output: {1, 2, 3, 4}\n",
        "\n",
        "my_set.add(2) # Attempting to add a duplicate\n",
        "print(my_set) # Output: {1, 2, 3, 4} (set remains unchanged)\n"
      ],
      "metadata": {
        "colab": {
          "base_uri": "https://localhost:8080/"
        },
        "id": "HJJDgPzwjG-e",
        "outputId": "77cf8a8b-3bd8-4f61-a438-a47458cbd21a"
      },
      "execution_count": null,
      "outputs": [
        {
          "output_type": "stream",
          "name": "stdout",
          "text": [
            "{1, 2, 3, 4}\n",
            "{1, 2, 3, 4}\n"
          ]
        }
      ]
    },
    {
      "cell_type": "markdown",
      "source": [
        "14 . How does the “in” keyword work differently for lists and dictionaries ?\n",
        "   - 1 List\n",
        "   -The in keyword in lists checks for the presence of a specific value among the list's elements.\n",
        "   - It sequentially checks each item in the list for a match with the target value. This is similar to a linear search algorithm.\n",
        "   - 2 Dictionaries\n",
        "   - When used with dictionaries, the in keyword checks for the presence of a specific key within the dictionary.\n",
        "   - It does not search for values associated with those keys, unless you explicitly use the .values() method.\n",
        "   \n",
        "\n"
      ],
      "metadata": {
        "id": "IYAOgdS_jLAR"
      }
    },
    {
      "cell_type": "code",
      "source": [
        "my_list = [\"apple\", \"banana\", \"cherry\"]\n",
        "print(\"apple\" in my_list)  # True (checks for value)\n",
        "print(\"grape\" not in my_list) # True\n",
        "\n",
        "my_dict = {\"name\": \"Alice\", \"age\": 30}\n",
        "print(\"name\" in my_dict)  # True (checks for key)\n",
        "print(\"Alice\" in my_dict)  # False (checks for key, not value)\n"
      ],
      "metadata": {
        "colab": {
          "base_uri": "https://localhost:8080/"
        },
        "id": "qUyokcQBjzOW",
        "outputId": "88b98782-45ef-46b1-d1da-8fe959b5da76"
      },
      "execution_count": null,
      "outputs": [
        {
          "output_type": "stream",
          "name": "stdout",
          "text": [
            "True\n",
            "True\n",
            "True\n",
            "False\n"
          ]
        }
      ]
    },
    {
      "cell_type": "markdown",
      "source": [
        "15 . Can you modify the elements of a tuple? Explain why or why not ?\n",
        "   - No, you cannot directly modify the elements of a tuple in Python. Tuples are immutable, meaning their contents cannot be changed after creation. Attempting to modify a tuple will result in a TypeError\n",
        "   - Explanation:\n",
        "   - Tuples are data structures in Python that store an ordered sequence of elements, similar to lists. However, unlike lists, tuples are immutable. This immutability means that once a tuple is created, you cannot: Change the value of an existing element, Add new elements, and Remove existing elements.\n"
      ],
      "metadata": {
        "id": "80lRoLfGj1cU"
      }
    },
    {
      "cell_type": "markdown",
      "source": [
        "16 . What is a nested dictionary, and give an example of its use case ?\n",
        "   - A nested dictionary in Python is a dictionary where the values of its keys can also be other dictionaries. This allows for the creation of multi-layered, hierarchical data structures, like a filing cabinet where each drawer can contain another smaller filing cabinet inside."
      ],
      "metadata": {
        "id": "R7SnFrr6lDTE"
      }
    },
    {
      "cell_type": "code",
      "source": [
        "employees = {\n",
        "    \"employee1\": {\n",
        "        \"name\": \"Janice\",\n",
        "        \"age\": 25,\n",
        "        \"department\": \"HR\",\n",
        "        \"position\": \"Recruitment Specialist\"\n",
        "    },\n",
        "    \"employee2\": {\n",
        "        \"name\": \"Jake\",\n",
        "        \"age\": 30,\n",
        "        \"department\": \"IT\",\n",
        "        \"position\": \"Software Engineer\"\n",
        "    },\n",
        "    \"employee3\": {\n",
        "        \"name\": \"Sarah\",\n",
        "        \"age\": 28,\n",
        "        \"department\": \"IT\",\n",
        "        \"position\": \"System Administrator\"\n",
        "    }\n",
        "}\n"
      ],
      "metadata": {
        "id": "tWBc23ZMlSPF"
      },
      "execution_count": null,
      "outputs": []
    },
    {
      "cell_type": "markdown",
      "source": [
        "  - In this example:\n",
        "The outer dictionary employees uses keys like \"employee1\", \"employee2\", etc., to represent each employee.\n",
        "The values associated with these keys are themselves dictionaries that store the details (name, age, department, position) for each individual employee."
      ],
      "metadata": {
        "id": "R-Sk0dD_ldgR"
      }
    },
    {
      "cell_type": "markdown",
      "source": [
        "17 . Describe the time complexity of accessing elements in a dictionary ?\n",
        "   - Python dictionaries provide a fast and efficient way to store and retrieve data using key value pair so understanding the time complexities of dictionary operations is very important for optimizing performance in our programs.\n",
        "   - Accessing Elements by Key (O(1))\n",
        "The time complexity of retrieving a value by its key in a dictionary is O(1). This is because dictionaries use a hash table internally which allows constant time lookup.\n"
      ],
      "metadata": {
        "id": "pFVL5dN7lfil"
      }
    },
    {
      "cell_type": "code",
      "source": [
        "# Create a dictionary\n",
        "dict = {'a': 1, 'b': 2, 'c': 3}\n",
        "\n",
        "# Access value by key\n",
        "val = dict['b']\n",
        "print(val)"
      ],
      "metadata": {
        "colab": {
          "base_uri": "https://localhost:8080/"
        },
        "id": "Sv4bciHTmH17",
        "outputId": "19f9949e-8713-4415-dde1-c9bbd0b86c07"
      },
      "execution_count": null,
      "outputs": [
        {
          "output_type": "stream",
          "name": "stdout",
          "text": [
            "2\n"
          ]
        }
      ]
    },
    {
      "cell_type": "markdown",
      "source": [
        "18 . In what situations are lists preferred over dictionaries ?\n",
        "   - Situations where lists are preferred over dictionaries\n",
        "   - While both lists and dictionaries are fundamental and powerful data structures in Python, they are designed for different purposes and excel in distinct scenarios.\n",
        "   - Order matters: Lists are ordered collections, meaning the sequence in which you add elements is maintained.\n",
        "   - This is ideal for: Maintaining a sequence of user actions in a workflow.\n",
        "   - Representing ordered data like a shopping list or a list of tasks where the order of completion matters."
      ],
      "metadata": {
        "id": "uf7J8kpBmLDz"
      }
    },
    {
      "cell_type": "code",
      "source": [
        "tasks = [\"Finish report\", \"Schedule meeting\", \"Respond to emails\"]\n",
        "tasks.append(\"Review presentation\")  # Add a new task\n",
        "print(tasks)  # Output: ['Finish report', 'Schedule meeting', 'Respond to emails', 'Review presentation']\n",
        "tasks.pop(0)  # Remove the first task\n",
        "print(tasks)  # Output: ['Schedule meeting', 'Respond to emails', 'Review presentation']\n"
      ],
      "metadata": {
        "colab": {
          "base_uri": "https://localhost:8080/"
        },
        "id": "sc8btZgNnT6O",
        "outputId": "4f72e171-9787-4838-9f98-015fe4f43a80"
      },
      "execution_count": null,
      "outputs": [
        {
          "output_type": "stream",
          "name": "stdout",
          "text": [
            "['Finish report', 'Schedule meeting', 'Respond to emails', 'Review presentation']\n",
            "['Schedule meeting', 'Respond to emails', 'Review presentation']\n"
          ]
        }
      ]
    },
    {
      "cell_type": "markdown",
      "source": [
        "- In essence, lists are excellent for scenarios where the order of elements is paramount, you need to access items by their position, and you may have duplicates."
      ],
      "metadata": {
        "id": "RrhyAR-3nX-V"
      }
    },
    {
      "cell_type": "markdown",
      "source": [
        "19 . Why are dictionaries considered unordered, and how does that affect data retrieval ?\n",
        "   - In many programming languages, including Python (prior to version 3.7), dictionaries (also known as hash tables or associative arrays) were considered unordered collections because they didn't preserve the order in which items were inserted.\n",
        "   - However, starting with Python 3.7, dictionaries do retain insertion order. This was a change in the implementation detail, meaning that when you iterate over or print the items in a dictionary, they will appear in the order they were added\n",
        "   - How does this affect data retrieval\n",
        "   -Dictionaries are optimized for fast retrieval of values when the key is known. This is because hash tables allow for near-instantaneous access to values based on their keys, resulting in an average time complexity of O(1) for lookups.\n",
        "   - Before Python 3.7, the lack of order had no significant impact on data retrieval based on keys, as the hash table implementation was designed for direct key-to-value mapping regardless of insertion order\n",
        "   "
      ],
      "metadata": {
        "id": "U7RJoha6ni_P"
      }
    },
    {
      "cell_type": "markdown",
      "source": [
        "20 . Explain the difference between a list and a dictionary in terms of data retrieval.\n",
        "   - Lists\n",
        "   - Ordered collection: Lists are ordered collections of items, meaning the elements are stored in a specific sequence and maintain that order.\n",
        "   - Accessed by index: Elements in a list are accessed using numerical indices, starting from 0 for the first element.\n",
        "   - Retrieval time complexity: Retrieving a specific element by its index from a list takes constant time, denoted as O(1), because the element's position can be directly calculated.\n",
        "   - Dictionary\n",
        "   - Retrieval time complexity: Retrieving a value from a dictionary using its key is generally very efficient and takes an average of constant time (O(1)). This is because dictionaries often use a hash table implementation to quickly map keys to their corresponding values.\n",
        "   - Searching: Searching for a key or a value in a dictionary is typically faster than searching within a list, especially for larger datasets."
      ],
      "metadata": {
        "id": "i6MGbSJFoe6q"
      }
    },
    {
      "cell_type": "markdown",
      "source": [
        "# ***2 . Practical Questions***\n"
      ],
      "metadata": {
        "id": "sg71T5P1pjGu"
      }
    },
    {
      "cell_type": "markdown",
      "source": [
        "1 . Write a code to create a string with your name and print ?"
      ],
      "metadata": {
        "id": "T2sGQJ7BrFCW"
      }
    },
    {
      "cell_type": "code",
      "source": [
        "name = \"Sachin\"\n",
        "print (name)"
      ],
      "metadata": {
        "colab": {
          "base_uri": "https://localhost:8080/"
        },
        "id": "7_9GYTInrjTM",
        "outputId": "0c000880-71e5-4da9-c385-8872eb9a431d"
      },
      "execution_count": null,
      "outputs": [
        {
          "output_type": "stream",
          "name": "stdout",
          "text": [
            "Sachin\n"
          ]
        }
      ]
    },
    {
      "cell_type": "markdown",
      "source": [
        "2 .  Write a code to find the length of the string \"Hello World\" ?"
      ],
      "metadata": {
        "id": "k-cH6AFJr141"
      }
    },
    {
      "cell_type": "code",
      "source": [
        "my_string = \"Hello World\"\n",
        "string_length = len(my_string)\n",
        "print(f\"The length of the string '{my_string}' is: {string_length}\")\n",
        "\n"
      ],
      "metadata": {
        "colab": {
          "base_uri": "https://localhost:8080/"
        },
        "id": "q-_pH7KVr9vm",
        "outputId": "02ceaa44-0c2d-4df7-e487-82cf46994032"
      },
      "execution_count": null,
      "outputs": [
        {
          "output_type": "stream",
          "name": "stdout",
          "text": [
            "The length of the string 'Hello World' is: 11\n"
          ]
        }
      ]
    },
    {
      "cell_type": "markdown",
      "source": [
        "3 . Write a code to slice the first 3 characters from the string \"Python Programming\" ?"
      ],
      "metadata": {
        "id": "pWHgL0MrsYp7"
      }
    },
    {
      "cell_type": "code",
      "source": [
        "my_string = \"Python Programming\"\n",
        "sliced_string = my_string[:3]\n",
        "print(sliced_string)"
      ],
      "metadata": {
        "colab": {
          "base_uri": "https://localhost:8080/"
        },
        "id": "jVWN48K_se33",
        "outputId": "28a82bdb-2192-4ef8-9b95-31f0bad1f0d2"
      },
      "execution_count": null,
      "outputs": [
        {
          "output_type": "stream",
          "name": "stdout",
          "text": [
            "Pyt\n"
          ]
        }
      ]
    },
    {
      "cell_type": "markdown",
      "source": [
        "4 . Write a code to convert the string \"hello\" to uppercase ?"
      ],
      "metadata": {
        "id": "R17uO8FhsuDb"
      }
    },
    {
      "cell_type": "code",
      "source": [
        "original_string = \"hello\"\n",
        "uppercase_string = original_string.upper()\n",
        "print(uppercase_string)\n"
      ],
      "metadata": {
        "colab": {
          "base_uri": "https://localhost:8080/"
        },
        "id": "_wx6rRcxs-bO",
        "outputId": "c563f107-5099-43c6-cc7e-13414363132f"
      },
      "execution_count": null,
      "outputs": [
        {
          "output_type": "stream",
          "name": "stdout",
          "text": [
            "HELLO\n"
          ]
        }
      ]
    },
    {
      "cell_type": "markdown",
      "source": [
        "5 .  Write a code to replace the word \"apple\" with \"orange\" in the string \"I like apple\" ?"
      ],
      "metadata": {
        "id": "TUIEnMPmtAAg"
      }
    },
    {
      "cell_type": "code",
      "source": [
        "original_string = \"I like apple\"\n",
        "new_string = original_string.replace(\"apple\", \"orange\")\n",
        "print(new_string)\n"
      ],
      "metadata": {
        "colab": {
          "base_uri": "https://localhost:8080/"
        },
        "id": "FjBWc7oVtEEO",
        "outputId": "28e533e0-4b8e-41cc-c69e-c7dcbdf9547c"
      },
      "execution_count": null,
      "outputs": [
        {
          "output_type": "stream",
          "name": "stdout",
          "text": [
            "I like orange\n"
          ]
        }
      ]
    },
    {
      "cell_type": "markdown",
      "source": [
        "6 . Write a code to create a list with numbers 1 to 5 and print it ?"
      ],
      "metadata": {
        "id": "-Z7hhg6CtLX-"
      }
    },
    {
      "cell_type": "code",
      "source": [
        "my_list = [1, 2, 3, 4, 5]\n",
        "print(my_list)\n"
      ],
      "metadata": {
        "colab": {
          "base_uri": "https://localhost:8080/"
        },
        "id": "8vtYEZixtOy0",
        "outputId": "9e63c551-2f15-4f96-eade-0622852f4656"
      },
      "execution_count": null,
      "outputs": [
        {
          "output_type": "stream",
          "name": "stdout",
          "text": [
            "[1, 2, 3, 4, 5]\n"
          ]
        }
      ]
    },
    {
      "cell_type": "markdown",
      "source": [
        "7 . Write a code to append the number 10 to the list [1, 2, 3, 4] ?"
      ],
      "metadata": {
        "id": "-0rYwsaKtUun"
      }
    },
    {
      "cell_type": "code",
      "source": [
        "my_list = [1, 2, 3, 4]\n",
        "my_list.append(10)\n",
        "print(my_list)\n"
      ],
      "metadata": {
        "colab": {
          "base_uri": "https://localhost:8080/"
        },
        "id": "RvACUe9ItZOl",
        "outputId": "ee69b33a-20d1-4475-d149-2e8c532b4782"
      },
      "execution_count": null,
      "outputs": [
        {
          "output_type": "stream",
          "name": "stdout",
          "text": [
            "[1, 2, 3, 4, 10]\n"
          ]
        }
      ]
    },
    {
      "cell_type": "markdown",
      "source": [
        "8 . Write a code to remove the number 3 from the list [1, 2, 3, 4, 5] ?"
      ],
      "metadata": {
        "id": "2gssQTnptyvQ"
      }
    },
    {
      "cell_type": "code",
      "source": [
        "my_list = [1, 2, 3, 4, 5]\n",
        "my_list.remove(3)\n",
        "print(my_list)\n"
      ],
      "metadata": {
        "colab": {
          "base_uri": "https://localhost:8080/"
        },
        "id": "-dKXzw4At49r",
        "outputId": "a7904027-ca6e-4c6d-bac0-b68c01e44449"
      },
      "execution_count": null,
      "outputs": [
        {
          "output_type": "stream",
          "name": "stdout",
          "text": [
            "[1, 2, 4, 5]\n"
          ]
        }
      ]
    },
    {
      "cell_type": "markdown",
      "source": [
        "9 . Write a code to access the second element in the list ['a', 'b', 'c', 'd'] ?"
      ],
      "metadata": {
        "id": "C1GigWSPuHj3"
      }
    },
    {
      "cell_type": "code",
      "source": [
        "my_list = ['a', 'b', 'c', 'd']\n",
        "second_element = my_list\n",
        "print(second_element)\n"
      ],
      "metadata": {
        "colab": {
          "base_uri": "https://localhost:8080/"
        },
        "id": "wwCzaYG9uO7N",
        "outputId": "607d323d-1665-42ce-a11d-aa47aba3d551"
      },
      "execution_count": null,
      "outputs": [
        {
          "output_type": "stream",
          "name": "stdout",
          "text": [
            "['a', 'b', 'c', 'd']\n"
          ]
        }
      ]
    },
    {
      "cell_type": "markdown",
      "source": [
        "10 . Write a code to reverse the list [10, 20, 30, 40, 50] ?"
      ],
      "metadata": {
        "id": "Jlre-BbwuaFP"
      }
    },
    {
      "cell_type": "code",
      "source": [
        "my_list = [10, 20, 30, 40, 50]\n",
        "print(\"Original list:\", my_list)\n",
        "\n",
        "my_list.reverse()\n",
        "print(\"Reversed list (using reverse()):\", my_list)\n"
      ],
      "metadata": {
        "colab": {
          "base_uri": "https://localhost:8080/"
        },
        "id": "0ykFQsklufT7",
        "outputId": "a4389a47-fdad-41cf-a067-822812162e66"
      },
      "execution_count": null,
      "outputs": [
        {
          "output_type": "stream",
          "name": "stdout",
          "text": [
            "Original list: [10, 20, 30, 40, 50]\n",
            "Reversed list (using reverse()): [50, 40, 30, 20, 10]\n"
          ]
        }
      ]
    },
    {
      "cell_type": "markdown",
      "source": [
        "11 . Write a code to create a tuple with the elements 100, 200, 300 and print it ?"
      ],
      "metadata": {
        "id": "71nlVmegupSY"
      }
    },
    {
      "cell_type": "code",
      "source": [
        "my_tuple = (100, 200, 300)\n",
        "print(my_tuple)\n"
      ],
      "metadata": {
        "colab": {
          "base_uri": "https://localhost:8080/"
        },
        "id": "mXGrDhRlutlT",
        "outputId": "1f95e747-8dec-48aa-c52d-a3ccbf70ee1c"
      },
      "execution_count": null,
      "outputs": [
        {
          "output_type": "stream",
          "name": "stdout",
          "text": [
            "(100, 200, 300)\n"
          ]
        }
      ]
    },
    {
      "cell_type": "markdown",
      "source": [
        "12 . Write a code to access the second-to-last element of the tuple ('red', 'green', 'blue', 'yellow') ?"
      ],
      "metadata": {
        "id": "8L0EcuzOu1Im"
      }
    },
    {
      "cell_type": "code",
      "source": [
        "my_tuple = ('red', 'green', 'blue', 'yellow')\n",
        "second_to_last_element = my_tuple\n",
        "print(second_to_last_element)"
      ],
      "metadata": {
        "colab": {
          "base_uri": "https://localhost:8080/"
        },
        "id": "dIBwkPX6wTbL",
        "outputId": "7654c779-7848-4777-d786-5a4778086910"
      },
      "execution_count": null,
      "outputs": [
        {
          "output_type": "stream",
          "name": "stdout",
          "text": [
            "('red', 'green', 'blue', 'yellow')\n"
          ]
        }
      ]
    },
    {
      "cell_type": "markdown",
      "source": [
        "13 . Write a code to find the minimum number in the tuple (10, 20, 5, 15) ?"
      ],
      "metadata": {
        "id": "lDU_7VLqwg8v"
      }
    },
    {
      "cell_type": "code",
      "source": [
        "my_tuple = (10, 20, 5, 15)\n",
        "minimum_number = min(my_tuple)\n",
        "print(minimum_number)\n"
      ],
      "metadata": {
        "colab": {
          "base_uri": "https://localhost:8080/"
        },
        "id": "RLjJ8FHq4r4F",
        "outputId": "7a3aafca-a56f-429e-f60c-5ce18c4d60c2"
      },
      "execution_count": null,
      "outputs": [
        {
          "output_type": "stream",
          "name": "stdout",
          "text": [
            "5\n"
          ]
        }
      ]
    },
    {
      "cell_type": "markdown",
      "source": [
        "14 . Write a code to find the index of the element \"cat\" in the tuple ('dog', 'cat', 'rabbit') ?"
      ],
      "metadata": {
        "id": "gb_Uokde46LG"
      }
    },
    {
      "cell_type": "code",
      "source": [
        "my_tuple = ('dog', 'cat', 'rabbit')\n",
        "element_to_find = 'cat'\n",
        "print(element_to_find)"
      ],
      "metadata": {
        "colab": {
          "base_uri": "https://localhost:8080/"
        },
        "id": "6zyBHyk-5Co7",
        "outputId": "191966e0-ebe3-4bbb-8ea9-f4be91833964"
      },
      "execution_count": null,
      "outputs": [
        {
          "output_type": "stream",
          "name": "stdout",
          "text": [
            "cat\n"
          ]
        }
      ]
    },
    {
      "cell_type": "markdown",
      "source": [
        "15 .  Write a code to create a tuple containing three different fruits and check if \"kiwi\" is in it. ?"
      ],
      "metadata": {
        "id": "KucCBcTc5b0a"
      }
    },
    {
      "cell_type": "code",
      "source": [
        "\n",
        "fruits_tuple = (\"apple\", \"banana\", \"orange\")\n",
        "if \"kiwi\" in fruits_tuple:\n",
        "    print(\"Yes, 'kiwi' is in the fruits tuple.\")\n",
        "else:\n",
        "    print(\"No, 'kiwi' is not in the fruits tuple.\")\n",
        "print(f\"Is 'kiwi' in the fruits tuple? {'kiwi' in fruits_tuple}\")\n"
      ],
      "metadata": {
        "colab": {
          "base_uri": "https://localhost:8080/"
        },
        "id": "_Kzwo-815pGk",
        "outputId": "e0017054-0756-48ed-9a39-d231d5ed2161"
      },
      "execution_count": null,
      "outputs": [
        {
          "output_type": "stream",
          "name": "stdout",
          "text": [
            "No, 'kiwi' is not in the fruits tuple.\n",
            "Is 'kiwi' in the fruits tuple? False\n"
          ]
        }
      ]
    },
    {
      "cell_type": "markdown",
      "source": [
        "16 .  Write a code to create a set with the elements 'a', 'b', 'c' and print it. Write a code to create a set with the elements 'a', 'b', 'c' and print it."
      ],
      "metadata": {
        "id": "UVwV02wc5v8E"
      }
    },
    {
      "cell_type": "code",
      "source": [
        "my_set = {'a', 'b', 'c'}\n",
        "print(my_set)"
      ],
      "metadata": {
        "colab": {
          "base_uri": "https://localhost:8080/"
        },
        "id": "glB89K5z52P0",
        "outputId": "0cf450d0-4930-49f7-85a3-4b8b4970491e"
      },
      "execution_count": null,
      "outputs": [
        {
          "output_type": "stream",
          "name": "stdout",
          "text": [
            "{'b', 'a', 'c'}\n"
          ]
        }
      ]
    },
    {
      "cell_type": "markdown",
      "source": [
        "17 . Write a code to clear all elements from the set {1, 2, 3, 4, 5} ?"
      ],
      "metadata": {
        "id": "l-udwCsq5-vh"
      }
    },
    {
      "cell_type": "code",
      "source": [
        "my_set = {1, 2, 3, 4, 5}  # Create the set\n",
        "print(f\"Original set: {my_set}\")\n",
        "\n",
        "my_set.clear()\n",
        "\n",
        "print(f\"Set after clearing: {my_set}\")\n"
      ],
      "metadata": {
        "colab": {
          "base_uri": "https://localhost:8080/"
        },
        "id": "zDH29q1K6C61",
        "outputId": "8e9f4543-8e5b-48f3-cbf4-f6fe7ad39c2a"
      },
      "execution_count": null,
      "outputs": [
        {
          "output_type": "stream",
          "name": "stdout",
          "text": [
            "Original set: {1, 2, 3, 4, 5}\n",
            "Set after clearing: set()\n"
          ]
        }
      ]
    },
    {
      "cell_type": "markdown",
      "source": [
        "18 . Write a code to remove the element 4 from the set {1, 2, 3, 4} ?"
      ],
      "metadata": {
        "id": "9Yy0p-we6RMJ"
      }
    },
    {
      "cell_type": "code",
      "source": [
        "my_set = {1, 2, 3, 4}\n",
        "my_set.remove(4)\n",
        "print(my_set)\n"
      ],
      "metadata": {
        "colab": {
          "base_uri": "https://localhost:8080/"
        },
        "id": "pKLtJVmg68QA",
        "outputId": "bbfabc50-3bdb-4855-eeeb-34c0ad30175d"
      },
      "execution_count": null,
      "outputs": [
        {
          "output_type": "stream",
          "name": "stdout",
          "text": [
            "{1, 2, 3}\n"
          ]
        }
      ]
    },
    {
      "cell_type": "markdown",
      "source": [
        "19 .  Write a code to find the union of two sets {1, 2, 3} and {3, 4, 5} ?"
      ],
      "metadata": {
        "id": "Zk1TVkWt7HiY"
      }
    },
    {
      "cell_type": "code",
      "source": [
        "set1 = {1, 2, 3}\n",
        "set2 = {3, 4, 5}\n",
        "\n",
        "union_set = set1.union(set2)\n",
        "print(union_set)\n"
      ],
      "metadata": {
        "colab": {
          "base_uri": "https://localhost:8080/"
        },
        "id": "a2Cp7Jbi7Q9b",
        "outputId": "05562ec7-717a-46e6-b3c2-df5679fbad89"
      },
      "execution_count": null,
      "outputs": [
        {
          "output_type": "stream",
          "name": "stdout",
          "text": [
            "{1, 2, 3, 4, 5}\n"
          ]
        }
      ]
    },
    {
      "cell_type": "markdown",
      "source": [
        " 20 . Write a code to find the intersection of two sets {1, 2, 3} and {2, 3, 4} ?\n"
      ],
      "metadata": {
        "id": "Y8YaqfAi7WVJ"
      }
    },
    {
      "cell_type": "code",
      "source": [
        "set1 = {1, 2, 3}\n",
        "set2 = {2, 3, 4}\n",
        "\n",
        "intersection_set = set1.intersection(set2)\n",
        "print(intersection_set)\n"
      ],
      "metadata": {
        "colab": {
          "base_uri": "https://localhost:8080/"
        },
        "id": "D7JZr5vt7d-P",
        "outputId": "c28843ef-b8d8-444b-b98e-4aecfc4c2b7b"
      },
      "execution_count": null,
      "outputs": [
        {
          "output_type": "stream",
          "name": "stdout",
          "text": [
            "{2, 3}\n"
          ]
        }
      ]
    },
    {
      "cell_type": "markdown",
      "source": [
        "21 . Write a code to create a dictionary with the keys \"name\", \"age\", and \"city\", and print it ?"
      ],
      "metadata": {
        "id": "ryEuNCsU7wjP"
      }
    },
    {
      "cell_type": "code",
      "source": [
        "person = {\n",
        "    \"name\": \"Abhishek\",\n",
        "    \"age\": 28,\n",
        "    \"city\": \"USA\"\n",
        "}\n",
        "print(person)\n"
      ],
      "metadata": {
        "colab": {
          "base_uri": "https://localhost:8080/"
        },
        "id": "A01kX6gG726a",
        "outputId": "9cbea890-2fb3-4faf-b835-755ff06e0f9c"
      },
      "execution_count": null,
      "outputs": [
        {
          "output_type": "stream",
          "name": "stdout",
          "text": [
            "{'name': 'Abhishek', 'age': 28, 'city': 'USA'}\n"
          ]
        }
      ]
    },
    {
      "cell_type": "markdown",
      "source": [
        "22 .  Write a code to add a new key-value pair \"country\": \"USA\" to the dictionary {'name': 'John', 'age': 25} ?\n",
        "\n"
      ],
      "metadata": {
        "id": "F8JK5JSL8LhP"
      }
    },
    {
      "cell_type": "code",
      "source": [
        "person = {'name': 'John', 'age': 25}\n",
        "person['country'] = 'USA'\n",
        "print(person)\n"
      ],
      "metadata": {
        "colab": {
          "base_uri": "https://localhost:8080/"
        },
        "id": "5kjwv8WQ8Q5R",
        "outputId": "a5ccd1ed-a295-4eeb-9792-76ec691280a5"
      },
      "execution_count": null,
      "outputs": [
        {
          "output_type": "stream",
          "name": "stdout",
          "text": [
            "{'name': 'John', 'age': 25, 'country': 'USA'}\n"
          ]
        }
      ]
    },
    {
      "cell_type": "markdown",
      "source": [
        "23 . Write a code to access the value associated with the key \"name\" in the dictionary {'name': 'Alice', 'age': 30} ?"
      ],
      "metadata": {
        "id": "KjhR0cNX8eKr"
      }
    },
    {
      "cell_type": "code",
      "source": [
        "person = {'name': 'Alice', 'age': 30}\n",
        "name_value = person[\"name\"]\n",
        "print(name_value)\n"
      ],
      "metadata": {
        "colab": {
          "base_uri": "https://localhost:8080/"
        },
        "id": "2S4x-8oV883H",
        "outputId": "b4764ad9-2bfb-4611-849e-84c7d183feb8"
      },
      "execution_count": null,
      "outputs": [
        {
          "output_type": "stream",
          "name": "stdout",
          "text": [
            "Alice\n"
          ]
        }
      ]
    },
    {
      "cell_type": "markdown",
      "source": [
        " 24 . Write a code to remove the key \"age\" from the dictionary {'name': 'Bob', 'age': 22, 'city': 'New York'} ?"
      ],
      "metadata": {
        "id": "-9ThyKri9QEc"
      }
    },
    {
      "cell_type": "code",
      "source": [
        "person = {'name': 'Bob', 'age': 22, 'city': 'New York'}\n",
        "del person['age']\n",
        "print(person)\n"
      ],
      "metadata": {
        "colab": {
          "base_uri": "https://localhost:8080/"
        },
        "id": "GV6ocuGx9lvw",
        "outputId": "e5362013-cf9d-4375-92ee-9079c4629aa8"
      },
      "execution_count": null,
      "outputs": [
        {
          "output_type": "stream",
          "name": "stdout",
          "text": [
            "{'name': 'Bob', 'city': 'New York'}\n"
          ]
        }
      ]
    },
    {
      "cell_type": "markdown",
      "source": [
        "25 .  Write a code to check if the key \"city\" exists in the dictionary {'name': 'Alice', 'city': 'Paris'} ?"
      ],
      "metadata": {
        "id": "XTZY9J7294Ch"
      }
    },
    {
      "cell_type": "code",
      "source": [
        "person = {'name': 'Alice', 'city': 'Paris'}\n",
        "\n",
        "if \"city\" in person:\n",
        "    print(\"The key 'city' exists in the dictionary.\")\n",
        "else:\n",
        "    print(\"The key 'city' does not exist in the dictionary.\")\n"
      ],
      "metadata": {
        "colab": {
          "base_uri": "https://localhost:8080/"
        },
        "id": "pplgc0kp96Nb",
        "outputId": "84a15772-027c-438d-f643-be977c90790e"
      },
      "execution_count": null,
      "outputs": [
        {
          "output_type": "stream",
          "name": "stdout",
          "text": [
            "The key 'city' exists in the dictionary.\n"
          ]
        }
      ]
    },
    {
      "cell_type": "markdown",
      "source": [
        "26 . Write a code to create a list, a tuple, and a dictionary, and print them all ?"
      ],
      "metadata": {
        "id": "OXMakpSa-Bws"
      }
    },
    {
      "cell_type": "code",
      "source": [
        "my_list = [1, 2, 3, 4, 5]\n",
        "my_tuple = (\"apple\", \"banana\", \"cherry\")\n",
        "my_dictionary = {\n",
        "    \"name\": \"Alice\",\n",
        "    \"age\": 30,\n",
        "    \"city\": \"New York\"\n",
        "}\n",
        "print(\"My List:\", my_list)\n",
        "print(\"My Tuple:\", my_tuple)\n",
        "print(\"My Dictionary:\", my_dictionary)\n"
      ],
      "metadata": {
        "colab": {
          "base_uri": "https://localhost:8080/"
        },
        "id": "OifN1yTs-IGM",
        "outputId": "2e649730-ddb7-4c1b-83dd-7571b0d1b181"
      },
      "execution_count": null,
      "outputs": [
        {
          "output_type": "stream",
          "name": "stdout",
          "text": [
            "My List: [1, 2, 3, 4, 5]\n",
            "My Tuple: ('apple', 'banana', 'cherry')\n",
            "My Dictionary: {'name': 'Alice', 'age': 30, 'city': 'New York'}\n"
          ]
        }
      ]
    },
    {
      "cell_type": "markdown",
      "source": [
        "27 . Write a code to create a list of 5 random numbers between 1 and 100, sort it in ascending order, and print the\n",
        "result.(replaced) ?"
      ],
      "metadata": {
        "id": "jzI1fSiE-cIj"
      }
    },
    {
      "cell_type": "markdown",
      "source": [
        "28 .  Write a code to create a list with strings and print the element at the third index ?\n"
      ],
      "metadata": {
        "id": "6_gvm6p5-7wm"
      }
    },
    {
      "cell_type": "code",
      "source": [
        "my_list = [\"apple\", \"banana\", \"cherry\", \"date\", \"elderberry\"]\n",
        "element_at_third_index = my_list[3]\n",
        "print(element_at_third_index)\n"
      ],
      "metadata": {
        "colab": {
          "base_uri": "https://localhost:8080/"
        },
        "id": "DVD7Zwi1_Cny",
        "outputId": "25e901c8-27fe-4512-9575-fb6cb2cb825f"
      },
      "execution_count": null,
      "outputs": [
        {
          "output_type": "stream",
          "name": "stdout",
          "text": [
            "date\n"
          ]
        }
      ]
    },
    {
      "cell_type": "markdown",
      "source": [
        "29 . Write a code to combine two dictionaries into one and print the result."
      ],
      "metadata": {
        "id": "0MmVBHkL_Raw"
      }
    },
    {
      "cell_type": "code",
      "source": [
        "dict1 = {\"name\": \"Alice\", \"age\": 30}\n",
        "dict2 = {\"city\": \"New York\", \"occupation\": \"Engineer\"}\n",
        "\n",
        "dict1.update(dict2)\n",
        "print(\"Using update() method:\", dict1)\n"
      ],
      "metadata": {
        "colab": {
          "base_uri": "https://localhost:8080/"
        },
        "id": "2lAfgmbm_WIv",
        "outputId": "3540c62c-2c70-4126-8e71-0fe68c695bd7"
      },
      "execution_count": null,
      "outputs": [
        {
          "output_type": "stream",
          "name": "stdout",
          "text": [
            "Using update() method: {'name': 'Alice', 'age': 30, 'city': 'New York', 'occupation': 'Engineer'}\n"
          ]
        }
      ]
    },
    {
      "cell_type": "markdown",
      "source": [
        "30 .  Write a code to convert a list of strings into a set ?"
      ],
      "metadata": {
        "id": "CHj6-hGz_go6"
      }
    },
    {
      "cell_type": "code",
      "source": [
        "my_list_of_strings = [\"apple\", \"banana\", \"cherry\", \"apple\", \"date\", \"banana\"]\n",
        "my_set_of_strings = set(my_list_of_strings)\n",
        "print(my_set_of_strings)\n"
      ],
      "metadata": {
        "colab": {
          "base_uri": "https://localhost:8080/"
        },
        "id": "ife1w7Hp_nVl",
        "outputId": "ec9c2e01-a7b1-4be6-88ae-98d096bbe017"
      },
      "execution_count": null,
      "outputs": [
        {
          "output_type": "stream",
          "name": "stdout",
          "text": [
            "{'banana', 'apple', 'date', 'cherry'}\n"
          ]
        }
      ]
    }
  ]
}